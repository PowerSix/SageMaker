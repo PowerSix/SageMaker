{
 "cells": [
  {
   "cell_type": "markdown",
   "metadata": {},
   "source": [
    "In this demo we will be looking at how to use custom terminlogies in Amazon Translate\n",
    "\n",
    "---\n",
    "Import the needed libraries"
   ]
  },
  {
   "cell_type": "code",
   "execution_count": null,
   "metadata": {},
   "outputs": [],
   "source": [
    "import boto3, os\n",
    "import json\n",
    "\n",
    "translate = boto3.client('translate')"
   ]
  },
  {
   "cell_type": "markdown",
   "metadata": {},
   "source": [
    "---\n",
    "This is the text to be translated."
   ]
  },
  {
   "cell_type": "code",
   "execution_count": null,
   "metadata": {},
   "outputs": [],
   "source": [
    "original_text = 'I order fresh groceries on ACME Fresh delivery service'"
   ]
  },
  {
   "cell_type": "markdown",
   "metadata": {},
   "source": [
    "---\n",
    "Set the source language and list of target languages"
   ]
  },
  {
   "cell_type": "code",
   "execution_count": null,
   "metadata": {},
   "outputs": [],
   "source": [
    "source_lang = 'en'\n",
    "target_lang = {'nl': 'Dutch',\n",
    "               'de': 'German',\n",
    "               'he': 'Hebrew',\n",
    "               'da': 'Danish',\n",
    "               'fr': 'French',\n",
    "               'es': 'Spanish',\n",
    "               'sv': 'Swedish',\n",
    "               'it': 'Italian',\n",
    "               'no': 'Norwegian',\n",
    "               'pt': 'Portuguese'}"
   ]
  },
  {
   "cell_type": "markdown",
   "metadata": {},
   "source": [
    "---\n",
    "Create a custom terminlogy list in a CSV format.\n",
    "\n",
    "First row contains the source language code and target language code to which it needs to be translated. And in the subsequent line, first field is the source text and all corresponding fields are the expected target translation in that specific language."
   ]
  },
  {
   "cell_type": "code",
   "execution_count": null,
   "metadata": {},
   "outputs": [],
   "source": [
    "!head -2 custom_terminologies.csv"
   ]
  },
  {
   "cell_type": "markdown",
   "metadata": {},
   "source": [
    "---\n",
    "Import the custom terminologies into Amazon Translate."
   ]
  },
  {
   "cell_type": "code",
   "execution_count": null,
   "metadata": {},
   "outputs": [],
   "source": [
    "ifile = open('custom_terminologies.csv','rb')\n",
    "imported_terminology = translate.import_terminology(\n",
    "    Name='custom-terms-2019-demo',\n",
    "    MergeStrategy='OVERWRITE',\n",
    "    Description='Custom Terminologies created as demo',\n",
    "    TerminologyData={\n",
    "        'File': ifile.read(),\n",
    "        'Format': 'CSV'\n",
    "    }\n",
    ")\n",
    "ifile.close()\n",
    "print(json.dumps(imported_terminology, sort_keys=True, indent=4, default=str))"
   ]
  },
  {
   "cell_type": "markdown",
   "metadata": {},
   "source": [
    "---\n",
    "### Without using custom terminologies\n",
    "\n",
    "Check the translation without using custom terminologies and as you note the Fresh is not being translated as expeccted."
   ]
  },
  {
   "cell_type": "code",
   "execution_count": null,
   "metadata": {},
   "outputs": [],
   "source": [
    "for lc, lang in target_lang.items():\n",
    "    translated = translate.translate_text(\n",
    "        Text=original_text,\n",
    "        SourceLanguageCode=source_lang,\n",
    "        TargetLanguageCode=lc\n",
    "    )\n",
    "    print('Translated text in \"%s\" language' % (lang))\n",
    "    print(translated['TranslatedText'])\n",
    "    print()"
   ]
  },
  {
   "cell_type": "markdown",
   "metadata": {},
   "source": [
    "---\n",
    "### Using Custom Terminologies\n",
    "\n",
    "While using custom terminologies it get translated based on the terminlogies as we defined."
   ]
  },
  {
   "cell_type": "code",
   "execution_count": null,
   "metadata": {},
   "outputs": [],
   "source": [
    "for lc, lang in target_lang.items():\n",
    "    translated = translate.translate_text(\n",
    "        Text=original_text,\n",
    "        SourceLanguageCode=source_lang,\n",
    "        TargetLanguageCode=lc,\n",
    "        TerminologyNames=['custom-terms-2019-demo']\n",
    "    )\n",
    "    print('Translated text in \"%s\" language' % (lang))\n",
    "    print(translated['TranslatedText'])\n",
    "    print()"
   ]
  }
 ],
 "metadata": {
  "kernelspec": {
   "display_name": "conda_python3",
   "language": "python",
   "name": "conda_python3"
  },
  "language_info": {
   "codemirror_mode": {
    "name": "ipython",
    "version": 3
   },
   "file_extension": ".py",
   "mimetype": "text/x-python",
   "name": "python",
   "nbconvert_exporter": "python",
   "pygments_lexer": "ipython3",
   "version": "3.6.5"
  }
 },
 "nbformat": 4,
 "nbformat_minor": 4
}
